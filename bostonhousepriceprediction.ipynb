{
 "cells": [
  {
   "cell_type": "code",
   "execution_count": null,
   "id": "44fac103-5314-4237-9fa1-b7a45fb89301",
   "metadata": {},
   "outputs": [
    {
     "name": "stdout",
     "output_type": "stream",
     "text": [
      "0      24.0\n",
      "1      21.6\n",
      "2      34.7\n",
      "3      33.4\n",
      "4      36.2\n",
      "       ... \n",
      "501    22.4\n",
      "502    20.6\n",
      "503    23.9\n",
      "504    22.0\n",
      "505    11.9\n",
      "Name: price, Length: 506, dtype: float64\n",
      "(506, 13) (404, 13) (102, 13)\n",
      "r squared error :  0.9999980039471451\n",
      "mean absolute error :  0.0091330346494618\n",
      "Test R-squared error: 0.9051721149855378\n",
      "Test mean absolute error: 2.0748727686264927\n"
     ]
    },
    {
     "data": {
      "image/png": "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",
      "text/plain": [
       "<Figure size 640x480 with 1 Axes>"
      ]
     },
     "metadata": {},
     "output_type": "display_data"
    }
   ],
   "source": [
    "import pandas as pd\n",
    "import numpy as np \n",
    "import matplotlib.pyplot as plt\n",
    "import seaborn as sns\n",
    "import sklearn.datasets\n",
    "from sklearn.model_selection import train_test_split\n",
    "from xgboost import XGBRegressor\n",
    "from sklearn import metrics\n",
    "from sklearn.metrics import accuracy_score\n",
    "house_data = pd.read_csv('BostonHousing.csv')\n",
    "house_data.head()\n",
    "house_data.isnull().sum()\n",
    "house_data.describe()\n",
    "correlation = house_data.corr()\n",
    "#plt.figure(figsize =(10,10))\n",
    "#sns.heatmap(correlation, cbar = True, square = True, fmt = '.1f', annot = True, annot_kws = {'size': 8}, cmap = 'Blues')\n",
    "# splitting the data for training and testing\n",
    "x = house_data.drop(['price'], axis = 1)\n",
    "y = house_data['price']\n",
    "print(y)\n",
    "x_train, x_test, y_train, y_test = train_test_split(x, y, test_size = 0.2, random_state  = 2)\n",
    "print(x.shape, x_train.shape, x_test.shape)\n",
    "#model training\n",
    "model = XGBRegressor()\n",
    "model.fit(x_train, y_train)\n",
    "#accuracy check\n",
    "training_data_prediction = model.predict(x_train)\n",
    "#R squared mean\n",
    "score_1 = metrics.r2_score(y_train, training_data_prediction)\n",
    "# mean absolute error \n",
    "score_2 = metrics.mean_absolute_error(y_train, training_data_prediction)\n",
    "print(\"r squared error : \", score_1)\n",
    "print(\"mean absolute error : \", score_2)\n",
    "test_data_prediction = model.predict(x_test)\n",
    "test_r2 = metrics.r2_score(y_test, test_data_prediction)\n",
    "test_mae = metrics.mean_absolute_error(y_test, test_data_prediction)\n",
    "\n",
    "print(\"Test R-squared error:\", test_r2)\n",
    "print(\"Test mean absolute error:\", test_mae)\n",
    "plt.scatter(y_train, training_data_prediction)\n",
    "plt.show()\n",
    "input_data = []\n",
    "\n",
    "for column in x.columns:\n",
    "    value = float(input(f\"Enter value for {column}: \"))\n",
    "    input_data.append(value)\n",
    "\n",
    "# Convert to numpy array and reshape (since model expects 2D array)\n",
    "input_array = np.asarray(input_data).reshape(1, -1)\n",
    "\n",
    "# Predict the price\n",
    "predicted_price = model.predict(input_array)\n",
    "\n",
    "# Show the predicted price\n",
    "print(\"Predicted House Price: \", predicted_price[0])"
     # here is the inputs that you can use to check my model :
#crim,zn,indus,chas,nox,rm,age,dis,rad,tax,ptratio,b,lstat,price
#0.00632,18,2.31,0,0.538,6.575,65.2,4.09,1,296,15.3,396.9,4.98,24

   ]
  },
  {
   "cell_type": "code",
   "execution_count": null,
   "id": "a389a377-72a8-4263-8573-c669cfe02a92",
   "metadata": {},
   "outputs": [],
   "source": []
  }
 ],
 "metadata": {
  "kernelspec": {
   "display_name": "Python 3 (ipykernel)",
   "language": "python",
   "name": "python3"
  },
  "language_info": {
   "codemirror_mode": {
    "name": "ipython",
    "version": 3
   },
   "file_extension": ".py",
   "mimetype": "text/x-python",
   "name": "python",
   "nbconvert_exporter": "python",
   "pygments_lexer": "ipython3",
   "version": "3.12.7"
  }
 },
 "nbformat": 4,
 "nbformat_minor": 5
}
